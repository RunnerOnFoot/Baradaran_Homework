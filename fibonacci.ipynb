{
 "cells": [
  {
   "cell_type": "markdown",
   "metadata": {},
   "source": [
    "# Fibonacci Sequence Calculation and Comparisons\n",
    "*By Parsa Babazadeh*\n",
    "\n",
    "---\n",
    "### Introduction\n",
    "\n",
    "This Jupyter Notebook explores different methods for calculating the Fibonacci sequence and compares their performance. The Fibonacci sequence is a series of numbers where each number is the sum of the two preceding ones, starting with 0 and 1. It has applications in various fields, including mathematics, computer science, and nature."
   ]
  },
  {
   "cell_type": "markdown",
   "metadata": {},
   "source": [
    "### Recursive Implementation\n",
    "\n",
    "*Time Complexity: O($2^n$)*\n",
    "\n",
    "Explanation: The recursive implementation has an exponential time complexity because for each call to fibonacci_recursive(n), it makes two recursive calls to fibonacci_recursive(n-1) and fibonacci_recursive(n-2). This leads to exponentially many recursive calls as n increases, making it highly inefficient for large values of n."
   ]
  },
  {
   "cell_type": "code",
   "execution_count": 10,
   "metadata": {},
   "outputs": [],
   "source": [
    "import time"
   ]
  },
  {
   "cell_type": "code",
   "execution_count": 15,
   "metadata": {},
   "outputs": [],
   "source": [
    "def fibonacci_recursive(n):\n",
    "    \"\"\"\n",
    "    Calculate the nth Fibonacci number using recursion.\n",
    "    \n",
    "    Args:\n",
    "        n (int): The position of the number in the Fibonacci sequence.\n",
    "        \n",
    "    Returns:\n",
    "        int: The nth Fibonacci number.\n",
    "    \"\"\"\n",
    "    if n <= 0:\n",
    "            return 0\n",
    "    elif n == 1:\n",
    "        return 1\n",
    "    else:\n",
    "        return fibonacci_recursive(n-1) + fibonacci_recursive(n-2)"
   ]
  },
  {
   "cell_type": "markdown",
   "metadata": {},
   "source": [
    "### Iterative Implementation\n",
    "\n",
    "*Time Complexity: O(n)*\n",
    "\n",
    "Explanation: The iterative implementation uses a loop that runs n times, performing a constant amount of work on each iteration. Therefore, its time complexity is linear with respect to the input n."
   ]
  },
  {
   "cell_type": "code",
   "execution_count": 20,
   "metadata": {},
   "outputs": [],
   "source": [
    "def fibonacci_iterative(n):\n",
    "    \"\"\"\n",
    "    Calculate the nth Fibonacci number using an iterative approach (loop).\n",
    "    \n",
    "    Args:\n",
    "        n (int): The position of the number in the Fibonacci sequence.\n",
    "        \n",
    "    Returns:\n",
    "        int: The nth Fibonacci number.\n",
    "    \"\"\"\n",
    "    if n <= 0:\n",
    "        return 0\n",
    "    elif n == 1:\n",
    "        return 1\n",
    "    else:\n",
    "        a, b = 0, 1\n",
    "        for _ in range(2, n):\n",
    "            a, b = b, a + b\n",
    "        return b"
   ]
  },
  {
   "cell_type": "markdown",
   "metadata": {},
   "source": [
    "---\n",
    "\n",
    "### Execution and Comparison\n",
    "\n",
    "This section executes and compares the performance of the three implementations by calculating the 100th Fibonacci number and measuring the execution time for each method."
   ]
  },
  {
   "cell_type": "code",
   "execution_count": 19,
   "metadata": {},
   "outputs": [
    {
     "name": "stdout",
     "output_type": "stream",
     "text": [
      "Calculating Fibonacci with recursive method:\n",
      "Fibonacci(0) = 0\n",
      "Fibonacci(1) = 1\n",
      "Fibonacci(2) = 1\n",
      "Fibonacci(3) = 2\n",
      "Fibonacci(4) = 3\n",
      "Fibonacci(5) = 5\n",
      "Fibonacci(6) = 8\n",
      "Fibonacci(7) = 13\n",
      "Fibonacci(8) = 21\n",
      "Fibonacci(9) = 34\n",
      "Fibonacci(10) = 55\n",
      "Fibonacci(11) = 89\n",
      "Fibonacci(12) = 144\n",
      "Fibonacci(13) = 233\n",
      "Fibonacci(14) = 377\n",
      "Fibonacci(15) = 610\n",
      "Fibonacci(16) = 987\n",
      "Fibonacci(17) = 1597\n",
      "Fibonacci(18) = 2584\n",
      "Fibonacci(19) = 4181\n",
      "Fibonacci(20) = 6765\n",
      "Fibonacci(21) = 10946\n",
      "Fibonacci(22) = 17711\n",
      "Fibonacci(23) = 28657\n",
      "Fibonacci(24) = 46368\n",
      "Fibonacci(25) = 75025\n",
      "Fibonacci(26) = 121393\n",
      "Fibonacci(27) = 196418\n",
      "Fibonacci(28) = 317811\n",
      "Fibonacci(29) = 514229\n",
      "Fibonacci(30) = 832040\n",
      "Fibonacci(31) = 1346269\n",
      "Fibonacci(32) = 2178309\n",
      "Fibonacci(33) = 3524578\n",
      "Fibonacci(34) = 5702887\n",
      "Fibonacci(35) = 9227465\n",
      "Fibonacci(36) = 14930352\n",
      "Fibonacci(37) = 24157817\n",
      "Fibonacci(38) = 39088169\n",
      "Fibonacci(39) = 63245986\n",
      "Execution time: 34.256272 seconds\n"
     ]
    }
   ],
   "source": [
    "print(\"Calculating Fibonacci with recursive method:\")\n",
    "\n",
    "start_time = time.time()\n",
    "for n in range(40):\n",
    "    result = fibonacci_recursive(n)\n",
    "    print(f\"Fibonacci({n}) = {result}\")\n",
    "\n",
    "end_time = time.time()\n",
    "print(f\"Execution time: {end_time - start_time:.6f} seconds\")"
   ]
  },
  {
   "cell_type": "code",
   "execution_count": 21,
   "metadata": {},
   "outputs": [
    {
     "name": "stdout",
     "output_type": "stream",
     "text": [
      "Calculating Fibonacci with iterative method (loop):\n",
      "Fibonacci(99) = 218922995834555169026\n",
      "Execution time: 0.000046 seconds\n",
      "\n"
     ]
    }
   ],
   "source": [
    "print(\"Calculating Fibonacci with iterative method (loop):\")\n",
    "n = 100\n",
    "start_time = time.time()\n",
    "result = fibonacci_iterative(n)\n",
    "end_time = time.time()\n",
    "print(f\"Fibonacci({n-1}) = {result}\")\n",
    "print(f\"Execution time: {end_time - start_time:.6f} seconds\")\n",
    "print()\n"
   ]
  }
 ],
 "metadata": {
  "kernelspec": {
   "display_name": "Python 3",
   "language": "python",
   "name": "python3"
  },
  "language_info": {
   "codemirror_mode": {
    "name": "ipython",
    "version": 3
   },
   "file_extension": ".py",
   "mimetype": "text/x-python",
   "name": "python",
   "nbconvert_exporter": "python",
   "pygments_lexer": "ipython3",
   "version": "3.10.12"
  }
 },
 "nbformat": 4,
 "nbformat_minor": 2
}
