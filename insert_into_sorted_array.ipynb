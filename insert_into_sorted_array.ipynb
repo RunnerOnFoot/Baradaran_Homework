{
 "cells": [
  {
   "cell_type": "markdown",
   "metadata": {},
   "source": [
    "# Insert into Sorted Array\n",
    "*By Parsa Babazadeh*\n",
    "\n",
    "\n",
    "\n",
    "---\n",
    "\n",
    "\n",
    "This Python script provides a function to insert a number into a sorted array while maintaining the sorted order of the array.\n",
    "\n",
    "### Description\n",
    "\n",
    "The `insert_into_sorted_array` function inserts a number `n` into a sorted array `arr` while maintaining the sorted order. It first finds the index where `n` should be inserted, then shifts the elements to the right to make space, and finally inserts `n` at the appropriate index. The modified array is returned.\n",
    "\n",
    "### Time and Space Complexity\n",
    "\n",
    "- **Time Complexity**: O(n)\n",
    "- **Space Complexity**: O(1)"
   ]
  },
  {
   "cell_type": "code",
   "execution_count": 7,
   "metadata": {},
   "outputs": [],
   "source": [
    "def insert_into_sorted_array(arr, n):\n",
    "\n",
    "    index = 0\n",
    "    while index < len(arr) and arr[index] < n:\n",
    "        index += 1\n",
    "\n",
    "\n",
    "    arr.append(0)\n",
    "    for i in range(len(arr) - 1, index, -1):\n",
    "        arr[i] = arr[i - 1]\n",
    "\n",
    "\n",
    "    arr[index] = n\n",
    "\n",
    "    return arr"
   ]
  },
  {
   "cell_type": "markdown",
   "metadata": {},
   "source": [
    "### Here's an Example:"
   ]
  },
  {
   "cell_type": "code",
   "execution_count": 8,
   "metadata": {},
   "outputs": [
    {
     "name": "stdout",
     "output_type": "stream",
     "text": [
      "Sorted Array: [1, 3, 5, 6, 7, 9]\n"
     ]
    }
   ],
   "source": [
    "sorted_array = [1, 3, 5, 7, 9]\n",
    "n = 6\n",
    "new_array = insert_into_sorted_array(sorted_array, n)\n",
    "print(f\"Sorted Array: {new_array}\")"
   ]
  }
 ],
 "metadata": {
  "kernelspec": {
   "display_name": "bh_env",
   "language": "python",
   "name": "python3"
  },
  "language_info": {
   "codemirror_mode": {
    "name": "ipython",
    "version": 3
   },
   "file_extension": ".py",
   "mimetype": "text/x-python",
   "name": "python",
   "nbconvert_exporter": "python",
   "pygments_lexer": "ipython3",
   "version": "3.11.9"
  }
 },
 "nbformat": 4,
 "nbformat_minor": 2
}
