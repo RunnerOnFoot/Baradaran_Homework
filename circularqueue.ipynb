{
 "cells": [
  {
   "cell_type": "markdown",
   "metadata": {},
   "source": [
    "# Circular Queue Implementation\n",
    "*By Parsa Babazadeh*\n",
    "\n",
    "\n",
    "\n",
    "---\n",
    "\n",
    "\n",
    "\n",
    "### Description\n",
    "\n",
    "A circular queue is a data structure that follows the FIFO (First In, First Out) principle. Unlike a linear queue, a circular queue is implemented using a fixed-size array. When the queue becomes full, new elements are inserted starting from the beginning of the array if space becomes available due to dequeuing. This implementation provides efficient insertion and deletion operations, making it suitable for scenarios where a fixed-size queue is needed.\n",
    "\n",
    "### Time and Space Complexity\n",
    "\n",
    "- **Time Complexity**: O(1)\n",
    "- **Space Complexity**: O(n)"
   ]
  },
  {
   "cell_type": "code",
   "execution_count": 1,
   "metadata": {},
   "outputs": [],
   "source": [
    "class CircularQueue:\n",
    "    def __init__(self, capacity):\n",
    "        self.capacity = capacity\n",
    "        self.queue = [None] * capacity\n",
    "        self.front = self.rear = -1\n",
    "\n",
    "    def is_empty(self):\n",
    "        return self.front == -1\n",
    "\n",
    "    def is_full(self):\n",
    "        return (self.rear + 1) % self.capacity == self.front\n",
    "\n",
    "    def enqueue(self, item):\n",
    "        if self.is_full():\n",
    "            print(\"Queue is full. Enqueue operation cannot be performed.\")\n",
    "            return\n",
    "        elif self.is_empty():\n",
    "            self.front = self.rear = 0\n",
    "        else:\n",
    "            self.rear = (self.rear + 1) % self.capacity\n",
    "        self.queue[self.rear] = item\n",
    "        print(f\"Enqueued {item} to the queue.\")\n",
    "        self.print_queue()\n",
    "\n",
    "    def dequeue(self):\n",
    "        if self.is_empty():\n",
    "            print(\"Queue is empty. Dequeue operation cannot be performed.\")\n",
    "            return None\n",
    "        elif self.front == self.rear:\n",
    "            item = self.queue[self.front]\n",
    "            self.front = self.rear = -1\n",
    "        else:\n",
    "            item = self.queue[self.front]\n",
    "            self.front = (self.front + 1) % self.capacity\n",
    "        print(f\"Dequeued {item} from the queue.\")\n",
    "        self.print_queue()\n",
    "        return item\n",
    "\n",
    "    def print_queue(self):\n",
    "        if self.is_empty():\n",
    "            print(\"Queue is empty.\")\n",
    "            return\n",
    "        print(\"Current Queue: [\", end=\"\")\n",
    "        if self.front <= self.rear:\n",
    "            for i in range(self.front, self.rear + 1):\n",
    "                print(self.queue[i], end=\"\")\n",
    "                if i != self.rear:\n",
    "                    print(\", \", end=\"\")\n",
    "        else:\n",
    "            for i in range(self.front, self.capacity):\n",
    "                print(self.queue[i], end=\"\")\n",
    "                print(\", \", end=\"\")\n",
    "            for i in range(0, self.rear + 1):\n",
    "                print(self.queue[i], end=\"\")\n",
    "                if i != self.rear:\n",
    "                    print(\", \", end=\"\")\n",
    "        print(\"]\", \"\\n\")\n"
   ]
  },
  {
   "cell_type": "markdown",
   "metadata": {},
   "source": [
    "### Here's an example:"
   ]
  },
  {
   "cell_type": "code",
   "execution_count": 3,
   "metadata": {},
   "outputs": [
    {
     "name": "stdout",
     "output_type": "stream",
     "text": [
      "Queue is empty.\n",
      "Enqueued 1 to the queue.\n",
      "Current Queue: [1] \n",
      "\n",
      "Enqueued 2 to the queue.\n",
      "Current Queue: [1, 2] \n",
      "\n",
      "Enqueued 3 to the queue.\n",
      "Current Queue: [1, 2, 3] \n",
      "\n",
      "Dequeued 1 from the queue.\n",
      "Current Queue: [2, 3] \n",
      "\n",
      "Enqueued 4 to the queue.\n",
      "Current Queue: [2, 3, 4] \n",
      "\n",
      "Enqueued 5 to the queue.\n",
      "Current Queue: [2, 3, 4, 5] \n",
      "\n",
      "Enqueued 6 to the queue.\n",
      "Current Queue: [2, 3, 4, 5, 6] \n",
      "\n",
      "Queue is full. Enqueue operation cannot be performed.\n",
      "Dequeued 2 from the queue.\n",
      "Current Queue: [3, 4, 5, 6] \n",
      "\n",
      "Dequeued 3 from the queue.\n",
      "Current Queue: [4, 5, 6] \n",
      "\n",
      "Dequeued 4 from the queue.\n",
      "Current Queue: [5, 6] \n",
      "\n",
      "Dequeued 5 from the queue.\n",
      "Current Queue: [6] \n",
      "\n",
      "Dequeued 6 from the queue.\n",
      "Queue is empty.\n"
     ]
    },
    {
     "data": {
      "text/plain": [
       "6"
      ]
     },
     "execution_count": 3,
     "metadata": {},
     "output_type": "execute_result"
    }
   ],
   "source": [
    "queue = CircularQueue(5)\n",
    "queue.print_queue()\n",
    "queue.enqueue(1)\n",
    "queue.enqueue(2)\n",
    "queue.enqueue(3)\n",
    "queue.dequeue()\n",
    "queue.enqueue(4)\n",
    "queue.enqueue(5)\n",
    "queue.enqueue(6)\n",
    "queue.enqueue(7)\n",
    "queue.dequeue()\n",
    "queue.dequeue()\n",
    "queue.dequeue()\n",
    "queue.dequeue()\n",
    "queue.dequeue()\n"
   ]
  }
 ],
 "metadata": {
  "kernelspec": {
   "display_name": "bh_env",
   "language": "python",
   "name": "python3"
  },
  "language_info": {
   "codemirror_mode": {
    "name": "ipython",
    "version": 3
   },
   "file_extension": ".py",
   "mimetype": "text/x-python",
   "name": "python",
   "nbconvert_exporter": "python",
   "pygments_lexer": "ipython3",
   "version": "3.11.9"
  }
 },
 "nbformat": 4,
 "nbformat_minor": 2
}
