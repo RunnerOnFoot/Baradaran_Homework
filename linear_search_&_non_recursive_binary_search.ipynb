{
 "cells": [
  {
   "cell_type": "markdown",
   "metadata": {},
   "source": [
    "# Linear Search Algorithm\n",
    "*By Parsa Babazadeh*\n",
    "\n",
    "\n",
    "\n",
    "---\n",
    "\n",
    "\n",
    "The linear search algorithm is a simple and straightforward method for finding an element in a list or array. It involves sequentially checking each element of the list one by one until the desired element is found or the end of the list is reached.\n",
    "\n",
    "## Linear Search Approach\n",
    "\n",
    "The linear search algorithm follows these steps:\n",
    "\n",
    "1. Start from the first element of the list or array.\n",
    "2. Compare the current element with the target element.\n",
    "3. If the current element matches the target, return its index.\n",
    "4. If the current element does not match the target, move to the next element.\n",
    "5. Repeat steps 2-4 until the end of the list or array is reached.\n",
    "6. If the target element is not found, return -1 (or an appropriate value to indicate that the element is not present).\n"
   ]
  },
  {
   "cell_type": "code",
   "execution_count": 1,
   "metadata": {},
   "outputs": [],
   "source": [
    "def linear_search(arr, target):\n",
    "    n = len(arr)\n",
    "    for i in range(n):\n",
    "        if arr[i] == target:\n",
    "            return i\n",
    "    return -1"
   ]
  },
  {
   "cell_type": "markdown",
   "metadata": {},
   "source": [
    "## Complexity Analysis\n",
    "\n",
    "- **Time Complexity**: O(n) in the average and worst cases, O(1) in the best case.\n",
    "- **Space Complexity**: O(1), constant space.\n",
    "\n",
    "### Here's an example:"
   ]
  },
  {
   "cell_type": "code",
   "execution_count": 2,
   "metadata": {},
   "outputs": [
    {
     "name": "stdout",
     "output_type": "stream",
     "text": [
      "Element 2 found at index 2.\n"
     ]
    }
   ],
   "source": [
    "arr = [3, 6, 2, 8, 1, 5]\n",
    "target = 2\n",
    "index = linear_search(arr, target)\n",
    "\n",
    "if index != -1:\n",
    "    print(f\"Element {target} found at index {index}.\")\n",
    "else:\n",
    "    print(f\"Element {target} not found in the array.\")"
   ]
  },
  {
   "cell_type": "markdown",
   "metadata": {},
   "source": [
    "# Non-Recursive Binary Search Algorithm\n",
    "\n",
    "Binary search efficiently locates the position of a target value within a sorted array, boasting a time complexity of O(log n), significantly faster than linear search. It employs a divide-and-conquer strategy, halving the search space iteratively until finding the target or exhausting the search space.\n",
    "\n",
    "### Non-Recursive Approach\n",
    "\n",
    "In this version, a loop replaces recursion to iteratively search the array:\n",
    "\n",
    "1. **Initialize**: Set `left` and `right` pointers to the array's start and end.\n",
    "2. **Search Loop**: While `left` is less than or equal to `right`:\n",
    "   - Compute the middle index as `(left + right) // 2`.\n",
    "   - If the middle element equals the target, return its index.\n",
    "   - If the middle element is greater than the target, update `right` to `mid - 1`.\n",
    "   - If the middle element is less than the target, update `left` to `mid + 1`.\n",
    "3. **Result**: Return the index of the target if found; otherwise, return -1."
   ]
  },
  {
   "cell_type": "code",
   "execution_count": 13,
   "metadata": {},
   "outputs": [],
   "source": [
    "def binary_search(arr, target):\n",
    "    low = 0\n",
    "    high = len(arr) - 1\n",
    "\n",
    "    while low <= high:\n",
    "        mid = low + (high - low) // 2\n",
    "\n",
    "        if arr[mid] == target:\n",
    "            return mid\n",
    "        elif arr[mid] > target:\n",
    "            high = mid - 1\n",
    "        else:\n",
    "            low = mid + 1\n",
    "\n",
    "    return -1"
   ]
  },
  {
   "cell_type": "markdown",
   "metadata": {},
   "source": [
    "## Complexity Analysis\n",
    "\n",
    "- **Time Complexity**: O(log n) - Halves the search space in each step.\n",
    "- **Space Complexity**: O(1) - Requires only a constant amount of additional space.\n",
    "\n",
    "### Here's an example:"
   ]
  },
  {
   "cell_type": "code",
   "execution_count": 14,
   "metadata": {},
   "outputs": [
    {
     "name": "stdout",
     "output_type": "stream",
     "text": [
      "The element 25 is not found in the array.\n"
     ]
    }
   ],
   "source": [
    "arr =[3, 6, 8, 11, 14, 17, 19, 22, 25, 28, 30, 32, 34, 36, 39, 41, 43, 45, 48,\n",
    "      50, 52, 54, 57, 59, 62, 64, 66, 68, 71, 74, 76, 79, 81, 83, 85, 87, 90,\n",
    "      93, 95, 97, 100, 102, 104, 107, 109, 112, 115, 117, 119, 121, 124, 127,\n",
    "      129, 132, 134, 136, 138, 141, 143, 146, 148, 151, 153, 155, 157, 160,\n",
    "      162, 164, 165, 167, 169, 172, 174, 177, 179, 181, 183, 185, 187, 189,\n",
    "      191, 194, 197, 200]\n",
    "\n",
    "target = 25\n",
    "\n",
    "# Perform binary search and print the result\n",
    "result = binary_search(arr, target)\n",
    "if result != -1:\n",
    "    print(f\"The element {target} is found in the array at index {result}.\")\n",
    "else:\n",
    "    print(f\"The element {target} is not found in the array.\")\n"
   ]
  }
 ],
 "metadata": {
  "kernelspec": {
   "display_name": "Python 3",
   "language": "python",
   "name": "python3"
  },
  "language_info": {
   "codemirror_mode": {
    "name": "ipython",
    "version": 3
   },
   "file_extension": ".py",
   "mimetype": "text/x-python",
   "name": "python",
   "nbconvert_exporter": "python",
   "pygments_lexer": "ipython3",
   "version": "3.11.8"
  }
 },
 "nbformat": 4,
 "nbformat_minor": 2
}
